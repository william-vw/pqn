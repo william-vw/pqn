{
 "cells": [
  {
   "cell_type": "code",
   "execution_count": 26,
   "metadata": {},
   "outputs": [
    {
     "name": "stdout",
     "output_type": "stream",
     "text": [
      "conversion time (ms): 2.124\n"
     ]
    },
    {
     "name": "stderr",
     "output_type": "stream",
     "text": [
      "eye rules-princ.n3 --turtle ./data/tests/princ2.n3 ./data/tests/princ2.1.n3 --pass-only-new\n",
      "EYE v9.11.4 (2024-03-04)\n",
      "SWI-Prolog version 9.0.4\n",
      "starting 23 [msec cputime] 26 [msec walltime]\n",
      "GET file:///Users/wvw/git/pm/pqn/infer/rules-princ.n3 SC=26\n",
      "GET file:///Users/wvw/git/pm/pqn/infer/data/tests/princ2.n3 SC=33\n",
      "GET file:///Users/wvw/git/pm/pqn/infer/data/tests/princ2.1.n3 SC=3\n",
      "networking 8 [msec cputime] 8 [msec walltime]\n",
      "reasoning 13 [msec cputime] 13 [msec walltime]\n",
      "2024-05-09T15:37:14.130Z in=62 out=126 ent=63 step=53 brake=5 inf=405770 sec=0.044 inf/sec=9222045\n",
      "\n"
     ]
    },
    {
     "data": {
      "image/png": "[encoded data removed]",
      "text/plain": [
       "<IPython.core.display.Image object>"
      ]
     },
     "metadata": {},
     "output_type": "display_data"
    }
   ],
   "source": [
    "import sys\n",
    "sys.path.append('../convert')\n",
    "\n",
    "import os\n",
    "from pm4py.visualization.dfg import visualizer as dfg_visualizer\n",
    "from convert_dfg import convert_rdf_dfg\n",
    "\n",
    "# - tc\n",
    "#folder = \"tc/4\"\n",
    "#outfile = f\"data/out/{folder.replace('/', '_')}.n3\"\n",
    "#os.system(f\"eye rules-princ.n3 --turtle ./data/{folder}/disc.n3 ./data/{folder}/norm.n3 --pass-only-new > {outfile}\") \n",
    "\n",
    "# - tests\n",
    "files = [ \"princ2.n3\", \"princ2.1.n3\" ]\n",
    "outfile = f\"./data/out/{files[1]}\"\n",
    "os.system(f\"eye rules-princ.n3 --turtle ./data/tests/{files[0]} ./data/tests/{files[1]} --pass-only-new > {outfile}\") \n",
    "\n",
    "dfg = convert_rdf_dfg(outfile, \"\")\n",
    "# print(dfg)\n",
    "dfg_visualizer.view(dfg_visualizer.apply(dfg))"
   ]
  }
 ],
 "metadata": {
  "kernelspec": {
   "display_name": "base",
   "language": "python",
   "name": "python3"
  },
  "language_info": {
   "codemirror_mode": {
    "name": "ipython",
    "version": 3
   },
   "file_extension": ".py",
   "mimetype": "text/x-python",
   "name": "python",
   "nbconvert_exporter": "python",
   "pygments_lexer": "ipython3",
   "version": "3.11.5"
  }
 },
 "nbformat": 4,
 "nbformat_minor": 2
}
