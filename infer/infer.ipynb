{
 "cells": [
  {
   "cell_type": "code",
   "execution_count": 3,
   "metadata": {},
   "outputs": [],
   "source": [
    "# > run inference"
   ]
  },
  {
   "cell_type": "code",
   "execution_count": 20,
   "metadata": {},
   "outputs": [],
   "source": [
    "import os, sys, time\n",
    "sys.path.append(\"/Users/wvw/git/pm/pqn/convert\") # (convert code)\n",
    "from pm4py.visualization.dfg import visualizer as dfg_visualizer\n",
    "from convert_dfg import convert_rdf_dfg\n",
    "\n",
    "def run(folder, norm_file, disc_file):\n",
    "    norm_path = f\"data/{folder}/{norm_file}.n3\"\n",
    "    disc_path = f\"data/{folder}/{disc_file}.n3\"\n",
    "    prefix = folder.replace('/', '_')\n",
    "    norm_closure_path = f\"data/out/{prefix}_{norm_file}_closure.n3\"\n",
    "    # out_path = f\"data/out/{prefix}_{norm_file}_{disc_file}.n3\"\n",
    "    out_path = f\"data/out/{prefix}_{disc_file}.n3\"\n",
    "    \n",
    "    start0 = time.time()\n",
    "    if not os.path.isfile(norm_closure_path):\n",
    "        print(\"getting closure first\")\n",
    "        start = time.time()\n",
    "        os.system(f\"eye utils.n3 rules-closure.n3 --turtle {norm_path} --nope --pass-only-new --skolem-genid 123 > {norm_closure_path} 2>/dev/null\")\n",
    "        end = time.time()\n",
    "        print(\"closure time:\", (end - start), \"(s)\")\n",
    "    os.system(f\"eye utils.n3 rules-princ.n3 --turtle {norm_path} {norm_closure_path} {disc_path} --pass-only-new --skolem-genid 123 > {out_path} 2>/dev/null\")\n",
    "    end0 = time.time()\n",
    "    print(\"infer time:\", (end0 - start0), \"(s)\")\n",
    "    \n",
    "    return out_path"
   ]
  },
  {
   "cell_type": "code",
   "execution_count": 24,
   "metadata": {},
   "outputs": [],
   "source": [
    "import sys, os\n",
    "sys.path.append(\"/Users/wvw/git/pm/pqn/infer/lib\") # (convert code)\n",
    "from NTCompare import compare_rdf_graphs\n",
    "\n",
    "# assumes particular structure (ref/ folder)\n",
    "def check_compl(folder, _, disc_file):\n",
    "    prefix = folder.replace('/', '_')\n",
    "    file = f\"{prefix}_{disc_file}.n3\"\n",
    "    \n",
    "    out_path = f\"data/out/{file}\"\n",
    "    ref_path = f\"data/{folder}/ref/{file}\"\n",
    "    if not os.path.isfile(ref_path):\n",
    "        print(f\"no ref file found at {ref_path}\")\n",
    "        return\n",
    "    \n",
    "    compare_rdf_graphs(out_path, 'turtle', ref_path, 'turtle')"
   ]
  },
  {
   "cell_type": "code",
   "execution_count": 45,
   "metadata": {},
   "outputs": [
    {
     "name": "stdout",
     "output_type": "stream",
     "text": [
      "infer time: 0.05258297920227051 (s)\n",
      "Results are identical\n",
      "conversion time (ms): 0.689\n"
     ]
    },
    {
     "data": {
      "image/png": "[encoded data removed]",
      "text/plain": [
       "<IPython.core.display.Image object>"
      ]
     },
     "metadata": {},
     "output_type": "display_data"
    }
   ],
   "source": [
    "# - run test\n",
    "\n",
    "# -- misc tests\n",
    "folder = \"tests\"\n",
    "norm_file = \"test4-norm\"\n",
    "disc_file = \"test4-disc1\"\n",
    "\n",
    "# -- tc - all\n",
    "# nr = 0\n",
    "# outfile = run(\"tc/all\", \"norm\", f\"diff-{nr}\")\n",
    "\n",
    "# -- tc - misc tests\n",
    "# folder = \"tc/1\"\n",
    "# outfile = f\"data/out/{folder.replace('/', '_')}.n3\"\n",
    "# os.system(f\"eye utils.n3 rules-princ.n3 --turtle ./data/{folder}/disc.n3 ./data/{folder}/norm.n3 --pass-only-new > {outfile}\")  \n",
    "\n",
    "outfile = run(folder, norm_file, disc_file)\n",
    "\n",
    "# - check compliance\n",
    "check_compl(folder, norm_file, disc_file)\n",
    "\n",
    "# - visualize inferred links\n",
    "dfg = convert_rdf_dfg(outfile, \"\")\n",
    "# print(dfg)\n",
    "dfg_visualizer.view(dfg_visualizer.apply(dfg))"
   ]
  },
  {
   "cell_type": "code",
   "execution_count": 1,
   "metadata": {},
   "outputs": [],
   "source": [
    "# > create normative & diff RDF files\n",
    "\n",
    "folder = \"tc/all\""
   ]
  },
  {
   "cell_type": "code",
   "execution_count": 2,
   "metadata": {},
   "outputs": [],
   "source": [
    "# - compare discovered with normative model\n",
    "# (& store result as DFG, i.e., .py file)\n",
    "\n",
    "import sys\n",
    "sys.path.append(\"/Users/wvw/git/pm/compare_logs\") # (compare code)\n",
    "from modules.cmp_logs_v2 import compare_nodes_edges_dfg\n",
    "from modules.utils import read_dict \n",
    "\n",
    "# read discovered, normative models\n",
    "disc = read_dict(f\"./data/{folder}/disc.py\")\n",
    "norm = read_dict(f\"./data/{folder}/norm.py\")\n",
    "\n",
    "# compare models\n",
    "_, node_diff, edge_diff = compare_nodes_edges_dfg([ disc, norm ])\n",
    "# get edges that are missing in normative model\n",
    "inconsist_edges = edge_diff[edge_diff['dfg_i']==0]"
   ]
  },
  {
   "cell_type": "code",
   "execution_count": 3,
   "metadata": {},
   "outputs": [],
   "source": [
    "# - convert to RDF\n",
    "\n",
    "sys.path.append(\"/Users/wvw/git/pm/pqn/convert\") # (convert code)\n",
    "from convert_dfg import convert_dfg_rdf, DFGSource\n",
    "from rdflib import Namespace\n",
    "\n",
    "TC = Namespace(\"http://canada.org/tc#\")"
   ]
  },
  {
   "cell_type": "code",
   "execution_count": null,
   "metadata": {},
   "outputs": [],
   "source": [
    "# convert normative model into RDF\n",
    "convert_dfg_rdf(norm, f\"./data/{folder}/norm.n3\", TC, DFGSource.NORMATIVE)"
   ]
  },
  {
   "cell_type": "code",
   "execution_count": null,
   "metadata": {},
   "outputs": [],
   "source": [
    "# convert each missing edge into RDF\n",
    "\n",
    "for index, row in inconsist_edges.iterrows():\n",
    "    diff = { ( row['src'], row['tgt'] ): 1 }\n",
    "    \n",
    "    # with open(f\"./data/tc/all/diff-{index}.py\", 'w') as f:\n",
    "    #     f.write(str(dict))\n",
    "    \n",
    "    convert_dfg_rdf(diff, f\"../infer/data/{folder}/diff-{index}.n3\", TC, DFGSource.DISCOVERED)"
   ]
  },
  {
   "cell_type": "code",
   "execution_count": null,
   "metadata": {},
   "outputs": [],
   "source": [
    "import re\n",
    "\n",
    "f1 = \"data/out/tc_all_norm_diff-0.n3\"\n",
    "f2 = \"data/out/tmp.n3\"\n",
    "\n",
    "lines1 = open(f1).read().split(\"\\n\")\n",
    "invalidated1 = [ re.findall(\"(.*) dfg:invalidated\", line)[0] for line in lines1 if \"dfg:invalidated\" in line ]\n",
    "print(\"invalidated1:\", invalidated1)\n",
    "\n",
    "lines2 = open(f2).read().split(\"\\n\")\n",
    "invalidated2 = [ re.findall(\"(.*) dfg:invalidated\", line)[0] for line in lines2 if \"dfg:invalidated\" in line ]\n",
    "print(\"invalidated2:\", invalidated2)\n",
    "\n",
    "notin1 = [ inv for inv in invalidated2 if inv not in invalidated1 ]\n",
    "print(\"notin1:\", notin1)\n",
    "\n",
    "notin2 = [ inv for inv in invalidated1 if inv not in invalidated2 ]\n",
    "print(\"notin2:\", notin2)"
   ]
  }
 ],
 "metadata": {
  "kernelspec": {
   "display_name": "base",
   "language": "python",
   "name": "python3"
  },
  "language_info": {
   "codemirror_mode": {
    "name": "ipython",
    "version": 3
   },
   "file_extension": ".py",
   "mimetype": "text/x-python",
   "name": "python",
   "nbconvert_exporter": "python",
   "pygments_lexer": "ipython3",
   "version": "3.11.5"
  }
 },
 "nbformat": 4,
 "nbformat_minor": 2
}
