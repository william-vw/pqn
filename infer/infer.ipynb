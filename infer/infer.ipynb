{
 "cells": [
  {
   "cell_type": "code",
   "execution_count": 1,
   "metadata": {},
   "outputs": [],
   "source": [
    "# > create normative & diff RDF files\n",
    "\n",
    "folder = \"tc/all\""
   ]
  },
  {
   "cell_type": "code",
   "execution_count": 2,
   "metadata": {},
   "outputs": [],
   "source": [
    "# - compare discovered with normative model\n",
    "# (& store result as DFG, i.e., .py file)\n",
    "\n",
    "import sys\n",
    "sys.path.append(\"/Users/wvw/git/pm/compare_logs\") # (compare code)\n",
    "from modules.cmp_logs_v2 import compare_nodes_edges_dfg\n",
    "from modules.utils import read_dict \n",
    "\n",
    "# read discovered, normative models\n",
    "disc = read_dict(f\"./data/{folder}/disc.py\")\n",
    "norm = read_dict(f\"./data/{folder}/norm.py\")\n",
    "\n",
    "# compare models\n",
    "_, node_diff, edge_diff = compare_nodes_edges_dfg([ disc, norm ])\n",
    "# get edges that are missing in normative model\n",
    "inconsist_edges = edge_diff[edge_diff['dfg_i']==0]"
   ]
  },
  {
   "cell_type": "code",
   "execution_count": 3,
   "metadata": {},
   "outputs": [],
   "source": [
    "# - convert to RDF\n",
    "\n",
    "sys.path.append(\"/Users/wvw/git/pm/pqn/convert\") # (convert code)\n",
    "from convert_dfg import convert_dfg_rdf, DFGSource\n",
    "from rdflib import Namespace\n",
    "\n",
    "TC = Namespace(\"http://canada.org/tc#\")"
   ]
  },
  {
   "cell_type": "code",
   "execution_count": 4,
   "metadata": {},
   "outputs": [
    {
     "name": "stdout",
     "output_type": "stream",
     "text": [
      "conversion time (ms): 4.182\n",
      "save time (ms): 7.909\n",
      "total time (ms): 12.175\n"
     ]
    }
   ],
   "source": [
    "# convert normative model into RDF\n",
    "convert_dfg_rdf(norm, f\"./data/{folder}/norm.n3\", TC, DFGSource.NORMATIVE)"
   ]
  },
  {
   "cell_type": "code",
   "execution_count": null,
   "metadata": {},
   "outputs": [],
   "source": [
    "# convert each missing edge into RDF\n",
    "\n",
    "for index, row in inconsist_edges.iterrows():\n",
    "    diff = { ( row['src'], row['tgt'] ): 1 }\n",
    "    \n",
    "    # with open(f\"./data/tc/all/diff-{index}.py\", 'w') as f:\n",
    "    #     f.write(str(dict))\n",
    "    \n",
    "    convert_dfg_rdf(diff, f\"../infer/data/{folder}/diff-{index}.n3\", TC, DFGSource.DISCOVERED)"
   ]
  },
  {
   "cell_type": "code",
   "execution_count": 45,
   "metadata": {},
   "outputs": [
    {
     "name": "stdout",
     "output_type": "stream",
     "text": [
      "infer time: 0.7735850811004639 (s)\n",
      "conversion time (ms): 2.244\n"
     ]
    },
    {
     "data": {
      "image/png": "[encoded data removed]",
      "text/plain": [
       "<IPython.core.display.Image object>"
      ]
     },
     "metadata": {},
     "output_type": "display_data"
    }
   ],
   "source": [
    "# > run inference\n",
    "\n",
    "import os, sys, time\n",
    "sys.path.append(\"/Users/wvw/git/pm/pqn/convert\") # (convert code)\n",
    "from pm4py.visualization.dfg import visualizer as dfg_visualizer\n",
    "from convert_dfg import convert_rdf_dfg\n",
    "\n",
    "def run(folder, norm_file, disc_file):\n",
    "    norm_path = f\"data/{folder}/{norm_file}.n3\"\n",
    "    disc_path = f\"data/{folder}/{disc_file}.n3\"\n",
    "    suffix = folder.replace('/', '_')\n",
    "    norm_closure_path = f\"data/out/{suffix}_{norm_file}_closure.n3\"\n",
    "    out_path = f\"data/out/{suffix}_{norm_file}_{disc_file}.n3\"\n",
    "    \n",
    "    start0 = time.time()\n",
    "    if not os.path.isfile(norm_closure_path):\n",
    "        print(\"getting closure first\")\n",
    "        start = time.time()\n",
    "        os.system(f\"eye utils.n3 rules-closure.n3 --turtle {norm_path} --nope --pass-only-new > {norm_closure_path} 2>/dev/null\")\n",
    "        end = time.time()\n",
    "        print(\"closure time:\", (end - start), \"(s)\")\n",
    "    os.system(f\"eye utils.n3 rules-princ.n3 --turtle {norm_path} {norm_closure_path} {disc_path} --pass-only-new > {out_path} 2>/dev/null\")\n",
    "    end0 = time.time()\n",
    "    print(\"infer time:\", (end0 - start0), \"(s)\")\n",
    "    \n",
    "    return out_path\n",
    "\n",
    "# # - misc tests\n",
    "# outfile = run(\"tests\", \"princ2\", \"princ2.3\")\n",
    "\n",
    "# - tc - all\n",
    "nr = 0\n",
    "outfile = run(\"tc/all\", \"norm\", f\"diff-{nr}\")\n",
    "\n",
    "# # - tc - misc tests\n",
    "# folder = \"tc/1\"\n",
    "# outfile = f\"data/out/{folder.replace('/', '_')}.n3\"\n",
    "# os.system(f\"eye utils.n3 rules-princ.n3 --turtle ./data/{folder}/disc.n3 ./data/{folder}/norm.n3 --pass-only-new > {outfile}\")  \n",
    "\n",
    "dfg = convert_rdf_dfg(outfile, \"\")\n",
    "# print(dfg)\n",
    "dfg_visualizer.view(dfg_visualizer.apply(dfg))"
   ]
  },
  {
   "cell_type": "code",
   "execution_count": 46,
   "metadata": {},
   "outputs": [
    {
     "name": "stdout",
     "output_type": "stream",
     "text": [
      "['<http://canada.org/tc#renewedbycame>', '<http://canada.org/tc#new-foramo/ramo>', '<http://canada.org/tc#inprogress-letter-fit>', '<http://canada.org/tc#end>', '<http://canada.org/tc#inprogress-letter-unfit>', '<http://canada.org/tc#duplicate>', '<http://canada.org/tc#onholdpending-amrb>', '<http://canada.org/tc#createdinerror>', '<http://canada.org/tc#onholdpending-administrativeissue>', '<http://canada.org/tc#fileretrieval>', '<http://canada.org/tc#withdrawnbyapplicant>', '<http://canada.org/tc#requestadditionaltests>', '<http://canada.org/tc#requestadditionaldocs>', '<http://canada.org/tc#fileretrieved>', '<http://canada.org/tc#additionaltestresultsreceivedorforfollowupreview>', '<http://canada.org/tc#inprogress-forfollow-upreview>']\n",
      "['<http://canada.org/tc#renewedbycame>', '<http://canada.org/tc#new-foramo/ramo>', '<http://canada.org/tc#inprogress-letter-fit>', '<http://canada.org/tc#inprogress-letter-unfit>', '<http://canada.org/tc#duplicate>', '<http://canada.org/tc#onholdpending-amrb>', '<http://canada.org/tc#createdinerror>', '<http://canada.org/tc#onholdpending-administrativeissue>', '<http://canada.org/tc#withdrawnbyapplicant>']\n",
      "notin1: []\n",
      "notin2: ['<http://canada.org/tc#end>', '<http://canada.org/tc#fileretrieval>', '<http://canada.org/tc#requestadditionaltests>', '<http://canada.org/tc#requestadditionaldocs>', '<http://canada.org/tc#fileretrieved>', '<http://canada.org/tc#additionaltestresultsreceivedorforfollowupreview>', '<http://canada.org/tc#inprogress-forfollow-upreview>']\n"
     ]
    }
   ],
   "source": [
    "import re\n",
    "\n",
    "f1 = \"data/out/tc_all_norm_diff-0.n3\"\n",
    "f2 = \"data/out/tmp.n3\"\n",
    "\n",
    "lines1 = open(f1).read().split(\"\\n\")\n",
    "invalidated1 = [ re.findall(\"(.*) dfg:invalidated\", line)[0] for line in lines1 if \"dfg:invalidated\" in line ]\n",
    "print(\"invalidated1:\", invalidated1)\n",
    "\n",
    "lines2 = open(f2).read().split(\"\\n\")\n",
    "invalidated2 = [ re.findall(\"(.*) dfg:invalidated\", line)[0] for line in lines2 if \"dfg:invalidated\" in line ]\n",
    "print(\"invalidated2:\", invalidated2)\n",
    "\n",
    "notin1 = [ inv for inv in invalidated2 if inv not in invalidated1 ]\n",
    "print(\"notin1:\", notin1)\n",
    "\n",
    "notin2 = [ inv for inv in invalidated1 if inv not in invalidated2 ]\n",
    "print(\"notin2:\", notin2)"
   ]
  }
 ],
 "metadata": {
  "kernelspec": {
   "display_name": "base",
   "language": "python",
   "name": "python3"
  },
  "language_info": {
   "codemirror_mode": {
    "name": "ipython",
    "version": 3
   },
   "file_extension": ".py",
   "mimetype": "text/x-python",
   "name": "python",
   "nbconvert_exporter": "python",
   "pygments_lexer": "ipython3",
   "version": "3.11.5"
  }
 },
 "nbformat": 4,
 "nbformat_minor": 2
}
