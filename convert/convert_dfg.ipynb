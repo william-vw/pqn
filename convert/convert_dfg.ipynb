{
 "cells": [
  {
   "cell_type": "code",
   "execution_count": 50,
   "metadata": {},
   "outputs": [
    {
     "name": "stdout",
     "output_type": "stream",
     "text": [
      "The autoreload extension is already loaded. To reload it, use:\n",
      "  %reload_ext autoreload\n"
     ]
    }
   ],
   "source": [
    "# (auto-reload changes from imported libraries)\n",
    "%load_ext autoreload\n",
    "%autoreload 2"
   ]
  },
  {
   "cell_type": "code",
   "execution_count": 51,
   "metadata": {},
   "outputs": [],
   "source": [
    "%reload_ext autoreload"
   ]
  },
  {
   "cell_type": "code",
   "execution_count": 52,
   "metadata": {},
   "outputs": [],
   "source": [
    "# dfg_path = \"/Users/wvw/git/pm/compare_logs/tc pilot medical/data/Event Dictionaries/PMed_Reallocation_New2_Event Dictionary.py\"\n",
    "dfg_path = \"/Users/wvw/git/pm/pqn/inf/data/tc/2/disc.py\"\n",
    "dfg_disc = eval(open(dfg_path, \"r\").read())"
   ]
  },
  {
   "cell_type": "code",
   "execution_count": 53,
   "metadata": {},
   "outputs": [],
   "source": [
    "# dfg_path = \"/Users/wvw/git/pm/compare_logs/tc pilot medical/data/tc_medical_cert-normative-align.py\"\n",
    "dfg_path = \"/Users/wvw/git/pm/pqn/inf/data/tc/2/norm.py\"\n",
    "dfg_norm = eval(open(dfg_path, \"r\").read())"
   ]
  },
  {
   "cell_type": "code",
   "execution_count": 54,
   "metadata": {},
   "outputs": [
    {
     "name": "stdout",
     "output_type": "stream",
     "text": [
      "conversion time (ms): 0.623\n",
      "save time (ms): 1.634\n",
      "total time (ms): 2.321\n",
      "conversion time (ms): 0.104\n",
      "save time (ms): 0.431\n",
      "total time (ms): 0.544\n"
     ]
    }
   ],
   "source": [
    "from convert_dfg import convert_dfg_rdf, DFGSource\n",
    "from rdflib import Namespace\n",
    "\n",
    "TC = Namespace(\"http://canada.org/tc#\")\n",
    "\n",
    "convert_dfg_rdf(dfg_norm, \"../inf/data/tc/2/norm.n3\", TC, DFGSource.NORMATIVE)\n",
    "convert_dfg_rdf(dfg_disc, \"../inf/data/tc/2/disc.n3\", TC, DFGSource.DISCOVERED)"
   ]
  },
  {
   "cell_type": "code",
   "execution_count": 84,
   "metadata": {},
   "outputs": [
    {
     "name": "stdout",
     "output_type": "stream",
     "text": [
      "conversion time (ms): 0.968\n",
      "{('c', 'd'): 1}\n"
     ]
    },
    {
     "data": {
      "image/png": "[encoded data removed]",
      "text/plain": [
       "<IPython.core.display.Image object>"
      ]
     },
     "metadata": {},
     "output_type": "display_data"
    }
   ],
   "source": [
    "\n",
    "from pm4py.visualization.dfg import visualizer as dfg_visualizer\n",
    "from convert_dfg import convert_rdf_dfg\n",
    "\n",
    "# dfg = convert_rdf_dfg(\"../infer/data/tests/consistLnk/consistLnkA.n3\", \"\")\n",
    "# dfg = convert_rdf_dfg(\"../infer/data/tests/princ3.n3\", \"\")\n",
    "dfg = convert_rdf_dfg(\"../infer/data/out/princ4.n3\", \"\")\n",
    "print(dfg)\n",
    "dfg_visualizer.view(dfg_visualizer.apply(dfg))"
   ]
  }
 ],
 "metadata": {
  "kernelspec": {
   "display_name": "base",
   "language": "python",
   "name": "python3"
  },
  "language_info": {
   "codemirror_mode": {
    "name": "ipython",
    "version": 3
   },
   "file_extension": ".py",
   "mimetype": "text/x-python",
   "name": "python",
   "nbconvert_exporter": "python",
   "pygments_lexer": "ipython3",
   "version": "3.11.5"
  }
 },
 "nbformat": 4,
 "nbformat_minor": 2
}
