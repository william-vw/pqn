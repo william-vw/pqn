{
 "cells": [
  {
   "cell_type": "code",
   "execution_count": 6,
   "metadata": {},
   "outputs": [
    {
     "name": "stdout",
     "output_type": "stream",
     "text": [
      "The autoreload extension is already loaded. To reload it, use:\n",
      "  %reload_ext autoreload\n"
     ]
    }
   ],
   "source": [
    "# (auto-reload changes from imported libraries)\n",
    "%load_ext autoreload\n",
    "%autoreload 2"
   ]
  },
  {
   "cell_type": "code",
   "execution_count": 7,
   "metadata": {},
   "outputs": [],
   "source": [
    "%reload_ext autoreload"
   ]
  },
  {
   "cell_type": "code",
   "execution_count": 8,
   "metadata": {},
   "outputs": [],
   "source": [
    "dfg_path = \"/Users/wvw/git/pm/compare_logs/tc pilot medical/data/Event Dictionaries/PMed_Reallocation_New2_Event Dictionary.py\"\n",
    "dfg = eval(open(dfg_path, \"r\").read())"
   ]
  },
  {
   "cell_type": "code",
   "execution_count": 9,
   "metadata": {},
   "outputs": [],
   "source": [
    "dfg_path = \"/Users/wvw/git/pm/compare_logs/tc pilot medical/data/tc_medical_cert-normative-align.py\"\n",
    "dfg = eval(open(dfg_path, \"r\").read())"
   ]
  },
  {
   "cell_type": "code",
   "execution_count": 11,
   "metadata": {},
   "outputs": [
    {
     "name": "stdout",
     "output_type": "stream",
     "text": [
      "conversion time (ms): 3.978\n",
      "save time (ms): 7.074\n",
      "total time (ms): 11.13\n"
     ]
    }
   ],
   "source": [
    "from convert_dfg import convert_dfg_rdf, DFGSource\n",
    "from rdflib import Namespace\n",
    "\n",
    "TC = Namespace(\"http://canada.org/tc#\")\n",
    "\n",
    "# convert_dfg_rdf(dfg, \"../logs/pilot_medical-normative.n3\", TC, DFGSource.NORMATIVE)\n",
    "convert_dfg_rdf(dfg, \"../logs/pilot_medical-discovered.n3\", TC, DFGSource.DISCOVERED)"
   ]
  }
 ],
 "metadata": {
  "kernelspec": {
   "display_name": "base",
   "language": "python",
   "name": "python3"
  },
  "language_info": {
   "codemirror_mode": {
    "name": "ipython",
    "version": 3
   },
   "file_extension": ".py",
   "mimetype": "text/x-python",
   "name": "python",
   "nbconvert_exporter": "python",
   "pygments_lexer": "ipython3",
   "version": "3.11.5"
  }
 },
 "nbformat": 4,
 "nbformat_minor": 2
}
