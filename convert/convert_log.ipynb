{
 "cells": [
  {
   "cell_type": "code",
   "execution_count": 7,
   "metadata": {},
   "outputs": [
    {
     "data": {
      "application/vnd.jupyter.widget-view+json": {
       "model_id": "d568dbe1031b4934b932c32fcca1c5ee",
       "version_major": 2,
       "version_minor": 0
      },
      "text/plain": [
       "parsing log, completed traces ::   0%|          | 0/1050 [00:00<?, ?it/s]"
      ]
     },
     "metadata": {},
     "output_type": "display_data"
    }
   ],
   "source": [
    "import pm4py\n",
    "import os\n",
    "\n",
    "log = pm4py.read_xes(\"../logs/sepsis.xes\")"
   ]
  },
  {
   "cell_type": "code",
   "execution_count": 13,
   "metadata": {},
   "outputs": [
    {
     "name": "stdout",
     "output_type": "stream",
     "text": [
      "total number of traces: 500\n",
      "conversion time (ms): 1319.666\n",
      "save time (ms): 909.327\n",
      "total time (ms): 2229.13\n"
     ]
    }
   ],
   "source": [
    "from convert_log import convert_xes_n3\n",
    "\n",
    "# convert_xes_n3(log, \"../logs/sepsis_25.n3\", 250)\n",
    "# convert_xes_n3(log, \"../logs/sepsis_50.n3\", 500)\n",
    "# convert_xes_n3(log, \"../logs/sepsis_all.n3\")"
   ]
  }
 ],
 "metadata": {
  "kernelspec": {
   "display_name": "base",
   "language": "python",
   "name": "python3"
  },
  "language_info": {
   "codemirror_mode": {
    "name": "ipython",
    "version": 3
   },
   "file_extension": ".py",
   "mimetype": "text/x-python",
   "name": "python",
   "nbconvert_exporter": "python",
   "pygments_lexer": "ipython3",
   "version": "3.11.4"
  },
  "orig_nbformat": 4
 },
 "nbformat": 4,
 "nbformat_minor": 2
}
