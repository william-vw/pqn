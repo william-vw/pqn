{
 "cells": [
  {
   "cell_type": "code",
   "execution_count": 3,
   "metadata": {},
   "outputs": [
    {
     "data": {
      "application/vnd.jupyter.widget-view+json": {
       "model_id": "7399f7fc3581438e8f79b86b6e69d5e8",
       "version_major": 2,
       "version_minor": 0
      },
      "text/plain": [
       "parsing log, completed traces ::   0%|          | 0/1050 [00:00<?, ?it/s]"
      ]
     },
     "metadata": {},
     "output_type": "display_data"
    }
   ],
   "source": [
    "import pm4py\n",
    "import os\n",
    "\n",
    "log = pm4py.read_xes(\"../logs/sepsis.xes\")"
   ]
  },
  {
   "cell_type": "code",
   "execution_count": 6,
   "metadata": {},
   "outputs": [
    {
     "name": "stdout",
     "output_type": "stream",
     "text": [
      "total number of traces: 1050\n",
      "conversion time (ms): 2327.367\n",
      "save time (ms): 2070.646\n",
      "total time (ms): 4398.191\n"
     ]
    }
   ],
   "source": [
    "from convert_log import convert_xes_n3\n",
    "\n",
    "# convert_xes_n3(log, \"../logs/sepsis_25.n3\", 250)\n",
    "# convert_xes_n3(log, \"../logs/sepsis_50.n3\", 500)\n",
    "convert_xes_n3(log, \"../logs/sepsis_all.n3\")"
   ]
  }
 ],
 "metadata": {
  "kernelspec": {
   "display_name": "base",
   "language": "python",
   "name": "python3"
  },
  "language_info": {
   "codemirror_mode": {
    "name": "ipython",
    "version": 3
   },
   "file_extension": ".py",
   "mimetype": "text/x-python",
   "name": "python",
   "nbconvert_exporter": "python",
   "pygments_lexer": "ipython3",
   "version": "3.11.4"
  },
  "orig_nbformat": 4
 },
 "nbformat": 4,
 "nbformat_minor": 2
}
