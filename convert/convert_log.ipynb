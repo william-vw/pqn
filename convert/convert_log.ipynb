{
 "cells": [
  {
   "cell_type": "code",
   "execution_count": 12,
   "metadata": {},
   "outputs": [],
   "source": [
    "import pm4py\n",
    "import pandas as pd\n",
    "\n",
    "# log = pm4py.read_xes(\"../logs/sepsis.xes\")\n",
    "log = pd.read_csv(\"../logs/sepsis_subset.csv\")"
   ]
  },
  {
   "cell_type": "code",
   "execution_count": 14,
   "metadata": {},
   "outputs": [
    {
     "name": "stdout",
     "output_type": "stream",
     "text": [
      "total number of traces: 4\n",
      "conversion time (ms): 5.197\n",
      "save time (ms): 10.14\n",
      "total time (ms): 15.473\n"
     ]
    }
   ],
   "source": [
    "from convert_log import convert_df_n3, RDFLogFormat\n",
    "\n",
    "# convert_df_n3(log, \"../logs/sepsis_pred_25.n3\", RDFLogFormat.LINK_PRED, 250)\n",
    "# convert_df_n3(log, \"../logs/sepsis_50.n3\", RDFLogFormat.LINK_PRED, 500)\n",
    "# convert_df_n3(log, \"../logs/sepsis_pred_all.n3\", RDFLogFormat.LINK_PRED)\n",
    "convert_df_n3(log, \"../logs/sepsis_subset.n3\", RDFLogFormat.LINK_PRED)"
   ]
  }
 ],
 "metadata": {
  "kernelspec": {
   "display_name": "base",
   "language": "python",
   "name": "python3"
  },
  "language_info": {
   "codemirror_mode": {
    "name": "ipython",
    "version": 3
   },
   "file_extension": ".py",
   "mimetype": "text/x-python",
   "name": "python",
   "nbconvert_exporter": "python",
   "pygments_lexer": "ipython3",
   "version": "3.9.13"
  },
  "orig_nbformat": 4
 },
 "nbformat": 4,
 "nbformat_minor": 2
}
