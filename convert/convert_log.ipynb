{
 "cells": [
  {
   "cell_type": "code",
   "execution_count": 1,
   "metadata": {},
   "outputs": [
    {
     "name": "stdout",
     "output_type": "stream",
     "text": [
      "The autoreload extension is already loaded. To reload it, use:\n",
      "  %reload_ext autoreload\n"
     ]
    }
   ],
   "source": [
    "# (auto-reload changes from imported libraries)\n",
    "%load_ext autoreload\n",
    "%autoreload 2"
   ]
  },
  {
   "cell_type": "code",
   "execution_count": 3,
   "metadata": {},
   "outputs": [
    {
     "data": {
      "application/vnd.jupyter.widget-view+json": {
       "model_id": "eee37aff9ec94af49b2bdb65ee615c41",
       "version_major": 2,
       "version_minor": 0
      },
      "text/plain": [
       "parsing log, completed traces ::   0%|          | 0/1050 [00:00<?, ?it/s]"
      ]
     },
     "metadata": {},
     "output_type": "display_data"
    }
   ],
   "source": [
    "import pm4py\n",
    "import pandas as pd\n",
    "\n",
    "log = pm4py.read_xes(\"../logs/sepsis.xes\")\n",
    "# log = pd.read_csv(\"../logs/sepsis_subset.csv\")"
   ]
  },
  {
   "cell_type": "code",
   "execution_count": 4,
   "metadata": {},
   "outputs": [
    {
     "name": "stdout",
     "output_type": "stream",
     "text": [
      "total number of traces: 1050\n",
      "conversion time (ms): 1972.733\n",
      "save time (ms): 1700.262\n",
      "total time (ms): 3673.129\n"
     ]
    }
   ],
   "source": [
    "from convert_log import convert_log_rdf, RdfRepresent\n",
    "from rdflib import Namespace\n",
    "\n",
    "Sepsis = Namespace(\"http://dutch.hospital.nl/sepsis#\")\n",
    "\n",
    "# convert_log_rdf(log, \"../logs/sepsis_pred_25.n3\", RdfRepresent.LINK_PRED, 250)\n",
    "# convert_log_rdf(log, \"../logs/sepsis_50.n3\", RdfRepresent.LINK_PRED, 500)\n",
    "# convert_log_rdf(log, \"../logs/sepsis_pred_all.n3\", RdfRepresent.LINK_PRED)\n",
    "convert_log_rdf(log, \"../logs/sepsis_subset-temp.n3\", Sepsis, RdfRepresent.LINK_PRED)"
   ]
  }
 ],
 "metadata": {
  "kernelspec": {
   "display_name": "base",
   "language": "python",
   "name": "python3"
  },
  "language_info": {
   "codemirror_mode": {
    "name": "ipython",
    "version": 3
   },
   "file_extension": ".py",
   "mimetype": "text/x-python",
   "name": "python",
   "nbconvert_exporter": "python",
   "pygments_lexer": "ipython3",
   "version": "3.11.5"
  },
  "orig_nbformat": 4
 },
 "nbformat": 4,
 "nbformat_minor": 2
}
