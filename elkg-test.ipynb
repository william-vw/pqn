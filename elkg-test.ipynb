{
 "cells": [
  {
   "cell_type": "code",
   "execution_count": null,
   "metadata": {},
   "outputs": [],
   "source": [
    "# (auto-reload changes from imported libraries)\n",
    "%load_ext autoreload\n",
    "%autovaload 2"
   ]
  },
  {
   "cell_type": "code",
   "execution_count": 6,
   "metadata": {},
   "outputs": [],
   "source": [
    "import pm4py\n",
    "import pandas as pd\n",
    "import subprocess\n",
    "\n",
    "from rdflib import Namespace"
   ]
  },
  {
   "cell_type": "markdown",
   "metadata": {},
   "source": [
    "## CCEL (XES)"
   ]
  },
  {
   "cell_type": "code",
   "execution_count": null,
   "metadata": {},
   "outputs": [],
   "source": [
    "log = pm4py.read_xes(\"logs/sepsis/sepsis.xes\")"
   ]
  },
  {
   "cell_type": "code",
   "execution_count": null,
   "metadata": {},
   "outputs": [],
   "source": [
    "from convert_log import convert_xes_rdf, RdfRepresent\n",
    "\n",
    "convert_xes_rdf(log, \"logs/sepsis/sepsis_subset.n3\", Namespace(\"http://dutch.hospital.nl/sepsis#\"), RdfRepresent.LINK_REIFIED)"
   ]
  },
  {
   "cell_type": "markdown",
   "metadata": {},
   "source": [
    "## OCEL2"
   ]
  },
  {
   "cell_type": "code",
   "execution_count": 7,
   "metadata": {},
   "outputs": [],
   "source": [
    "log = pm4py.read_ocel2(\"logs/ocel2/ocel2-p2p.xml\")"
   ]
  },
  {
   "cell_type": "code",
   "execution_count": null,
   "metadata": {},
   "outputs": [
    {
     "name": "stdout",
     "output_type": "stream",
     "text": [
      "conversion time (ms): 1482.232\n",
      "save time (ms): 1685.297\n",
      "total time (ms): 3167.681\n"
     ]
    }
   ],
   "source": [
    "# - convert OCEL2 log into ELKG\n",
    "\n",
    "from convert_log import convert_ocel2_rdf, RdfRepresent\n",
    "\n",
    "# (full log)\n",
    "# convert_ocel2_rdf(log, \"logs/ocel2/ocel2-p2p.ttl\", Namespace(\"http://ocel2.org/p2p#\"))\n",
    "# (log subset with 5000 events)\n",
    "convert_ocel2_rdf(log, \"logs/ocel2/ocel2-p2p-5000.ttl\", Namespace(\"http://ocel2.org/p2p#\"), 5000)"
   ]
  },
  {
   "cell_type": "code",
   "execution_count": 9,
   "metadata": {},
   "outputs": [
    {
     "name": "stderr",
     "output_type": "stream",
     "text": [
      "eye --quiet sort.n3 traces_collect.n3 --turtle logs/ocel2/ocel2-p2p-5000.ttl --query traces_query.n3 --nope --skolem-genid trace\n",
      "EYE v10.17.3 (2024-08-07)\n",
      "SWI-Prolog version 9.0.4\n",
      "starting 24 [msec cputime] 28 [msec walltime]\n",
      "GET file:///Users/wvw/git/pm/pqn/sort.n3 SC=1\n",
      "GET file:///Users/wvw/git/pm/pqn/traces_collect.n3 SC=7\n",
      "GET file:///Users/wvw/git/pm/pqn/logs/ocel2/ocel2-p2p-5000.ttl SC=104192\n",
      "GET file:///Users/wvw/git/pm/pqn/traces_query.n3 SC=1\n",
      "networking 455 [msec cputime] 506 [msec walltime]\n",
      "reasoning 13741 [msec cputime] 14056 [msec walltime]\n",
      "2024-08-22T18:28:42.260Z in=104201 out=15292 ent=19944 step=4986 brake=2 inf=193407838 sec=14.221 inf/sec=13600157\n",
      "\n"
     ]
    }
   ],
   "source": [
    "# - extract traces using perspective defined in traces_query.n3\n",
    "\n",
    "cmd = \"eye sort.n3 traces_collect.n3 --turtle logs/ocel2/ocel2-p2p-5000.ttl --query traces_query.n3 --nope --skolem-genid trace\"\n",
    "\n",
    "with open('logs/ocel2/ocel2-p2p-5000-traces.ttl', \"w\") as out_file: # file to store traces\n",
    "    subprocess.run(cmd.split(\" \"), stdout=out_file) \n"
   ]
  },
  {
   "cell_type": "code",
   "execution_count": 10,
   "metadata": {},
   "outputs": [
    {
     "name": "stderr",
     "output_type": "stream",
     "text": [
      "eye --quiet pqn_reif.n3 --turtle logs/ocel2/ocel2-p2p-5000.ttl logs/ocel2/ocel2-p2p-5000-traces.ttl --nope --query filter_query.n3\n",
      "EYE v10.17.3 (2024-08-07)\n",
      "SWI-Prolog version 9.0.4\n",
      "starting 24 [msec cputime] 26 [msec walltime]\n",
      "GET file:///Users/wvw/git/pm/pqn/pqn_reif.n3 SC=41\n",
      "GET file:///Users/wvw/git/pm/pqn/logs/ocel2/ocel2-p2p-5000.ttl SC=104192\n",
      "GET file:///Users/wvw/git/pm/pqn/logs/ocel2/ocel2-p2p-5000-traces.ttl SC=15292\n",
      "GET file:///Users/wvw/git/pm/pqn/filter_query.n3 SC=1\n",
      "networking 1009 [msec cputime] 1154 [msec walltime]\n",
      "reasoning 265 [msec cputime] 310 [msec walltime]\n",
      "2024-08-22T18:29:03.936Z in=119526 out=10944 ent=14248 step=3562 brake=1 inf=19475339 sec=1.298 inf/sec=15004113\n",
      "\n"
     ]
    }
   ],
   "source": [
    "# - drop incomplete traces (caused by our selection of subset of events)\n",
    "\n",
    "cmd = \"eye pqn_reif.n3 --turtle logs/ocel2/ocel2-p2p-5000.ttl logs/ocel2/ocel2-p2p-5000-traces.ttl --nope --query filter_query.n3\"\n",
    "\n",
    "with open('logs/ocel2/ocel2-p2p-5000-traces-complete.ttl', \"w\") as out_file: # file to store complete traces\n",
    "    subprocess.run(cmd.split(\" \"), stdout=out_file) "
   ]
  },
  {
   "cell_type": "code",
   "execution_count": null,
   "metadata": {},
   "outputs": [],
   "source": []
  }
 ],
 "metadata": {
  "kernelspec": {
   "display_name": "base",
   "language": "python",
   "name": "python3"
  },
  "language_info": {
   "codemirror_mode": {
    "name": "ipython",
    "version": 3
   },
   "file_extension": ".py",
   "mimetype": "text/x-python",
   "name": "python",
   "nbconvert_exporter": "python",
   "pygments_lexer": "ipython3",
   "version": "3.11.5"
  },
  "orig_nbformat": 4
 },
 "nbformat": 4,
 "nbformat_minor": 2
}
